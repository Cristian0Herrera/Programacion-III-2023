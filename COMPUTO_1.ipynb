{
  "nbformat": 4,
  "nbformat_minor": 0,
  "metadata": {
    "colab": {
      "provenance": [],
      "authorship_tag": "ABX9TyNgEwBI/2vtp+Xj4XbkQNWi",
      "include_colab_link": true
    },
    "kernelspec": {
      "name": "python3",
      "display_name": "Python 3"
    },
    "language_info": {
      "name": "python"
    }
  },
  "cells": [
    {
      "cell_type": "markdown",
      "metadata": {
        "id": "view-in-github",
        "colab_type": "text"
      },
      "source": [
        "<a href=\"https://colab.research.google.com/github/Cristian0Herrera/Programacion-III-2023/blob/main/COMPUTO_1.ipynb\" target=\"_parent\"><img src=\"https://colab.research.google.com/assets/colab-badge.svg\" alt=\"Open In Colab\"/></a>"
      ]
    },
    {
      "cell_type": "markdown",
      "source": [
        "Introduccion a python\n",
        "Declaracion de variables"
      ],
      "metadata": {
        "id": "0t9fqBi6HrDN"
      }
    },
    {
      "cell_type": "code",
      "execution_count": null,
      "metadata": {
        "colab": {
          "base_uri": "https://localhost:8080/"
        },
        "id": "ovtLJmyPGV7U",
        "outputId": "00c5c571-77da-431c-98fe-93abdc45e6ef"
      },
      "outputs": [
        {
          "output_type": "stream",
          "name": "stdout",
          "text": [
            "Hola mario. Hola cris.\n"
          ]
        }
      ],
      "source": [
        "saludo1 = \"Hola mario.\"\n",
        "saludo2 = \" Hola cris.\"\n",
        "respuesta = saludo1 + saludo2\n",
        "\n",
        "print(respuesta)\n"
      ]
    },
    {
      "cell_type": "code",
      "source": [
        "num1 = 5\n",
        "num2 = 20.5\n",
        "\n",
        "respuesta = num1 + num2\n",
        "\n",
        "print (\"La suma de \", num1, \" + \", num2, \" = \", respuesta)"
      ],
      "metadata": {
        "colab": {
          "base_uri": "https://localhost:8080/"
        },
        "id": "ihlo-AJTI0ds",
        "outputId": "24a5fe31-0ca7-472e-f029-17eae1472908"
      },
      "execution_count": null,
      "outputs": [
        {
          "output_type": "stream",
          "name": "stdout",
          "text": [
            "La suma de  5  +  20.5  =  25.5\n"
          ]
        }
      ]
    },
    {
      "cell_type": "code",
      "source": [
        "name = \"Cristian Herrera\"\n",
        "edad = 20\n",
        "saludo = \"Hola \" + name + \", tu edad \" + str(edad)\n",
        "print(saludo)"
      ],
      "metadata": {
        "colab": {
          "base_uri": "https://localhost:8080/"
        },
        "id": "JA72LHK9Kboe",
        "outputId": "195400a8-2964-465d-b4f2-33ee96631fde"
      },
      "execution_count": null,
      "outputs": [
        {
          "output_type": "stream",
          "name": "stdout",
          "text": [
            "Hola Cristian Herrera, tu edad 20\n"
          ]
        }
      ]
    },
    {
      "cell_type": "code",
      "source": [
        "nombre = input(\"Dime tu nombre: \")\n",
        "edad = input(\"Tu edad: \")\n",
        "saludo = \"Hola que tal \"+ nombre + \", tu edad: \" + edad\n",
        "print(saludo)"
      ],
      "metadata": {
        "colab": {
          "base_uri": "https://localhost:8080/"
        },
        "id": "B47HHXbWLNHM",
        "outputId": "9e161f65-7412-41ce-b259-a86d56909ce3"
      },
      "execution_count": null,
      "outputs": [
        {
          "output_type": "stream",
          "name": "stdout",
          "text": [
            "Dime tu nombre: cristian\n",
            "Tu edad: 20\n",
            "Hola que tal cristian, tu edad: 20\n"
          ]
        }
      ]
    },
    {
      "cell_type": "code",
      "source": [
        "num1 = float( input(\"Digita el primer numero: \" ))\n",
        "num2 = float( input(\"Digita el segundo numero: \"  ))\n",
        "\n",
        "suma = num1 + num2\n",
        "print(suma)"
      ],
      "metadata": {
        "colab": {
          "base_uri": "https://localhost:8080/"
        },
        "id": "U_-SH7GZMctG",
        "outputId": "3bcb6d9a-873c-4e49-9055-7a8e0897fd9d"
      },
      "execution_count": null,
      "outputs": [
        {
          "output_type": "stream",
          "name": "stdout",
          "text": [
            "Digita el primer numero: 5\n",
            "Digita el segundo numero: 5\n",
            "10.0\n"
          ]
        }
      ]
    },
    {
      "cell_type": "code",
      "source": [
        "num1 = float( input(\"Digita el primer numero: \" ))\n",
        "num2 = float( input(\"Digita el segundo numero: \" ))\n",
        "\n",
        "suma = num1 - num2\n",
        "print(suma)"
      ],
      "metadata": {
        "colab": {
          "base_uri": "https://localhost:8080/"
        },
        "outputId": "f2a89a94-3b8d-4680-8d4a-f96e9e8fd4dc",
        "id": "ENhpe1YlPkkS"
      },
      "execution_count": null,
      "outputs": [
        {
          "output_type": "stream",
          "name": "stdout",
          "text": [
            "Digita el primer numero: 5\n",
            "Digita el segundo numero: 10\n",
            "-5.0\n"
          ]
        }
      ]
    },
    {
      "cell_type": "code",
      "source": [],
      "metadata": {
        "id": "EhsnXmzEQKIe"
      },
      "execution_count": null,
      "outputs": []
    },
    {
      "cell_type": "code",
      "source": [
        "num1 = float( input(\"Digita el primer numero: \" ))\n",
        "num2 = float( input(\"Digita el segundo numero: \",  ))\n",
        "\n",
        "suma = num1 / num2\n",
        "print(suma)"
      ],
      "metadata": {
        "colab": {
          "base_uri": "https://localhost:8080/"
        },
        "outputId": "31dbf707-9269-4e2b-daa5-79d2b2e7e1ec",
        "id": "nvwD2uU-QKpT"
      },
      "execution_count": null,
      "outputs": [
        {
          "output_type": "stream",
          "name": "stdout",
          "text": [
            "Digita el primer numero: 2\n",
            "Digita el segundo numero: 10\n",
            "0.2\n"
          ]
        }
      ]
    },
    {
      "cell_type": "markdown",
      "source": [
        "***FUNCIONES DE USUARIOS***\n",
        "\n",
        "\n",
        "\n",
        "*   Convertir grados celsius a fahrenheit\n",
        "\n"
      ],
      "metadata": {
        "id": "XBenEfA_A5py"
      }
    },
    {
      "cell_type": "code",
      "source": [
        "def convertir(c):\n",
        " return c*9/5 + 32"
      ],
      "metadata": {
        "id": "OIirnsHRBxqX"
      },
      "execution_count": null,
      "outputs": []
    },
    {
      "cell_type": "code",
      "source": [
        "c = float(input(\"celsius: \"))\n",
        "print(\"F: \", convertir(c))"
      ],
      "metadata": {
        "colab": {
          "base_uri": "https://localhost:8080/"
        },
        "id": "x-cA6-kgBbE0",
        "outputId": "a05855d3-87a7-47ab-df80-4e9a9b5304e5"
      },
      "execution_count": null,
      "outputs": [
        {
          "output_type": "stream",
          "name": "stdout",
          "text": [
            "celsius: 40\n",
            "F:  104.0\n"
          ]
        }
      ]
    },
    {
      "cell_type": "markdown",
      "source": [
        "\n",
        "*   Convertir grados fahrenheit a celsius\n",
        "\n",
        "\n",
        "\n"
      ],
      "metadata": {
        "id": "mo_AVdoJG3Or"
      }
    },
    {
      "cell_type": "code",
      "source": [
        "def convertir2(f):\n",
        " return f-32 * 5/9"
      ],
      "metadata": {
        "id": "3v8BhWonH63b"
      },
      "execution_count": null,
      "outputs": []
    },
    {
      "cell_type": "code",
      "source": [
        "f = float(input(\"Fahrenheit: \"))\n",
        "print(\"C: \", convertir2(f))"
      ],
      "metadata": {
        "colab": {
          "base_uri": "https://localhost:8080/"
        },
        "id": "WE7bXIZeJLAl",
        "outputId": "99494a74-387c-4bc7-9232-3d0355383330"
      },
      "execution_count": null,
      "outputs": [
        {
          "output_type": "stream",
          "name": "stdout",
          "text": [
            "Fahrenheit: 40\n",
            "C:  22.22222222222222\n"
          ]
        }
      ]
    },
    {
      "cell_type": "markdown",
      "source": [
        "\n",
        "\n",
        "*   Calcular el sueldo mensual\n",
        "\n"
      ],
      "metadata": {
        "id": "iMCCAfc5KR9U"
      }
    },
    {
      "cell_type": "code",
      "source": [
        "def sueldo(numHors, valorXhr):\n",
        "  sueldo = numHors*valorXhr*30\n",
        "  if(numHors>8):\n",
        "\n",
        "\n",
        "    sueldo += (numHors-8)*valorXhr*2*30\n",
        "    sueldo = sueldo*0.9075\n",
        "\n",
        "\n",
        "  return sueldo"
      ],
      "metadata": {
        "id": "MASbkIknKdOY"
      },
      "execution_count": null,
      "outputs": []
    },
    {
      "cell_type": "code",
      "source": [
        "valorXhr = 4\n",
        "numHors = float(input(\"Horas trabajadas: \"))\n",
        "s = sueldo(numHrs, valorXhr)\n",
        "isr = calcularIsr(s, s*0.9075)\n",
        "print(\"sueldo: \", s, \"ISR: \", isr, s*0.9075-isr)\n",
        "#print(\"Sueldo: \", sueldo(numHors, valorXhr))"
      ],
      "metadata": {
        "colab": {
          "base_uri": "https://localhost:8080/"
        },
        "id": "oSbh0JkuLHPA",
        "outputId": "19f330c4-f7be-487f-911f-546e1b122137"
      },
      "execution_count": null,
      "outputs": [
        {
          "output_type": "stream",
          "name": "stdout",
          "text": [
            "Horas trabajadas: 8\n",
            "Sueldo:  960.0\n"
          ]
        }
      ]
    },
    {
      "cell_type": "code",
      "source": [
        "tabla_isr = [\n",
        "    [0.01, 477, 0, 0],\n",
        "    [472.01, 895.24, 0.1, 17.67],\n",
        "    [895.25, 2038.1, 0.2, 60.00],\n",
        "    [2038.11, 999999, 0.3,]\n",
        "]"
      ],
      "metadata": {
        "id": "rQZTB3PQW9M4"
      },
      "execution_count": null,
      "outputs": []
    },
    {
      "cell_type": "code",
      "source": [
        "def calcularIsr(sueldo, sueldoNeto):\n",
        "  impSr = 0\n",
        "  for tramo in tabla_isr:\n",
        "    if sueldo>tramo[0] and sueldo<=tramo[1]:\n",
        "      impSr = (sueldoNeto-tramo[0])*tramo[2] + tramo[3]\n",
        "  return impSr"
      ],
      "metadata": {
        "id": "MaDL-NhhYiM7"
      },
      "execution_count": null,
      "outputs": []
    },
    {
      "cell_type": "markdown",
      "source": [
        "**FUNCIONES LANBDA**\n",
        "* FUNCIONES PRECONSTRUIDA: MAP, FILTER, FIND (no hay un equivalente), REDUCE, ETC"
      ],
      "metadata": {
        "id": "s_zyNXNUvaMo"
      }
    },
    {
      "cell_type": "code",
      "source": [
        "def elevarCuadrado(num):\n",
        "  return num**2"
      ],
      "metadata": {
        "id": "xA-hAOgWwZ4N"
      },
      "execution_count": null,
      "outputs": []
    },
    {
      "cell_type": "code",
      "source": [
        "data = [1,2,3,4,5]"
      ],
      "metadata": {
        "id": "eUnMygQ0xwTR"
      },
      "execution_count": null,
      "outputs": []
    },
    {
      "cell_type": "code",
      "source": [
        "resp = map(elevarCuadrado, data)\n",
        "print(list(resp))"
      ],
      "metadata": {
        "colab": {
          "base_uri": "https://localhost:8080/"
        },
        "id": "BqFTM3IVvwyH",
        "outputId": "9de3dbdf-7e28-4f3c-d58e-ebae0602d15a"
      },
      "execution_count": null,
      "outputs": [
        {
          "output_type": "stream",
          "name": "stdout",
          "text": [
            "[1, 4, 9, 16, 25]\n"
          ]
        }
      ]
    },
    {
      "cell_type": "code",
      "source": [
        "resp = map(lambda n:n**2, data)\n",
        "print(list(resp))"
      ],
      "metadata": {
        "colab": {
          "base_uri": "https://localhost:8080/"
        },
        "id": "rjVIO3oYxTuI",
        "outputId": "819eb5f9-be5e-47f0-b0b7-148d00458446"
      },
      "execution_count": null,
      "outputs": [
        {
          "output_type": "stream",
          "name": "stdout",
          "text": [
            "[1, 4, 9, 16, 25]\n"
          ]
        }
      ]
    },
    {
      "cell_type": "code",
      "source": [
        "resp = filter(lambda n:n>2, [1,2,3,4,5])\n",
        "print(list(resp))"
      ],
      "metadata": {
        "colab": {
          "base_uri": "https://localhost:8080/"
        },
        "id": "iAxlp1qdxaQ9",
        "outputId": "2ebc6583-f514-4394-9812-7ff0f160093e"
      },
      "execution_count": null,
      "outputs": [
        {
          "output_type": "stream",
          "name": "stdout",
          "text": [
            "[3, 4, 5]\n"
          ]
        }
      ]
    },
    {
      "cell_type": "code",
      "source": [
        "import\tfunctools\n",
        "resp = functools.reduce(lambda a,n:a+n, data)\n",
        "print(resp)"
      ],
      "metadata": {
        "colab": {
          "base_uri": "https://localhost:8080/"
        },
        "id": "Lwf-NI_k4LPA",
        "outputId": "39b830d9-a8bf-442e-ae70-2e4e1cd1f4d2"
      },
      "execution_count": null,
      "outputs": [
        {
          "output_type": "stream",
          "name": "stdout",
          "text": [
            "15\n"
          ]
        }
      ]
    },
    {
      "cell_type": "markdown",
      "source": [
        "**TUPLAS**"
      ],
      "metadata": {
        "id": "5t81LC65BDkI"
      }
    },
    {
      "cell_type": "code",
      "source": [
        "semana = (\"domingo\", \"lunes\", \"martes\", \"miercoles\", \"jueves\", \"viernes\", \"sabado\")\n",
        "print( semana.count(\"domingo\"))#count cuenta el numero de veces que aparece un elemento en la tupla\n",
        "print(len(semana))"
      ],
      "metadata": {
        "colab": {
          "base_uri": "https://localhost:8080/"
        },
        "id": "ooT-vQTTBLYw",
        "outputId": "69d562c2-bd30-45c1-f8ed-25d86661936d"
      },
      "execution_count": null,
      "outputs": [
        {
          "output_type": "stream",
          "name": "stdout",
          "text": [
            "1\n",
            "7\n"
          ]
        }
      ]
    },
    {
      "cell_type": "markdown",
      "source": [
        "**LISTA=> Array**"
      ],
      "metadata": {
        "id": "Wwf3YDEoCKSv"
      }
    },
    {
      "cell_type": "code",
      "source": [
        "meses = [\"ene\",\"feb\",\"mar\",\"abr\",\"may\",\"jun\",\"jul\",\"ago\",\"sep\",\"oct\",\"nov\",\"dic\"]\n",
        "print(meses[-2:])\n",
        "print(meses[2:])\n",
        "\n",
        "\n",
        "print(meses)"
      ],
      "metadata": {
        "colab": {
          "base_uri": "https://localhost:8080/"
        },
        "id": "_qgALAiACVZn",
        "outputId": "0779eb4f-e2dc-4117-b32c-50b67f5a2db9"
      },
      "execution_count": null,
      "outputs": [
        {
          "output_type": "stream",
          "name": "stdout",
          "text": [
            "['nov', 'dic']\n",
            "['mar', 'abr', 'may', 'jun', 'jul', 'ago', 'sep', 'oct', 'nov', 'dic']\n",
            "['ene', 'feb', 'mar', 'abr', 'may', 'jun', 'jul', 'ago', 'sep', 'oct', 'nov', 'dic']\n"
          ]
        }
      ]
    },
    {
      "cell_type": "code",
      "source": [
        "materias = [[\"Progra 1\", [5,7,8], [8,7,9], [9,10,8]],[\"Progra 2\"]]\n",
        "print(materias[1][0])"
      ],
      "metadata": {
        "colab": {
          "base_uri": "https://localhost:8080/"
        },
        "id": "Z2X3hCq4Ezy0",
        "outputId": "d9d5256b-732b-40e3-da7b-ad683a5f8793"
      },
      "execution_count": null,
      "outputs": [
        {
          "output_type": "stream",
          "name": "stdout",
          "text": [
            "Progra 2\n"
          ]
        }
      ]
    },
    {
      "cell_type": "markdown",
      "source": [
        "**DICCIONARIOS => JSON**"
      ],
      "metadata": {
        "id": "G3nSHLtPFrel"
      }
    },
    {
      "cell_type": "code",
      "source": [
        "materias ={\n",
        "    \"Progra 1\":{\n",
        "        \"c1\":{\n",
        "            \"lab1\": 5,\n",
        "            \"lab2\": 9,\n",
        "            \"parcial\": 8\n",
        "        },\n",
        "        \"c2\":{\n",
        "            \"lab1\": 7,\n",
        "            \"lab2\": 9,\n",
        "            \"parcial\": 9\n",
        "        },\n",
        "        \"c3\":{\n",
        "            \"lab1\": 10,\n",
        "            \"lab2\": 9,\n",
        "            \"parcial\": 8\n",
        "        }\n",
        "    }\n",
        "}\n",
        "print(materias[\"Progra 1\"] [\"c1\"])"
      ],
      "metadata": {
        "colab": {
          "base_uri": "https://localhost:8080/"
        },
        "id": "OIRPJZ00FqY3",
        "outputId": "b493b959-e270-4fd7-ed23-e2e5488e8894"
      },
      "execution_count": null,
      "outputs": [
        {
          "output_type": "stream",
          "name": "stdout",
          "text": [
            "{'lab1': 5, 'lab2': 9, 'parcial': 8}\n"
          ]
        }
      ]
    },
    {
      "cell_type": "markdown",
      "source": [
        "**LISTAS**\n",
        "# * [a, b, c, ...]"
      ],
      "metadata": {
        "id": "yJh_2WiBH7-G"
      }
    },
    {
      "cell_type": "code",
      "source": [
        "data = [2,5,6,8,9]"
      ],
      "metadata": {
        "id": "ZA5Ajz2hINRW"
      },
      "execution_count": null,
      "outputs": []
    },
    {
      "cell_type": "code",
      "source": [
        "resp = map(lambda n:n**3,data)\n",
        "print(list(resp))"
      ],
      "metadata": {
        "colab": {
          "base_uri": "https://localhost:8080/"
        },
        "id": "8zn1rAr0Iigy",
        "outputId": "59b8a928-f156-4d62-80e1-5a71c5464d18"
      },
      "execution_count": null,
      "outputs": [
        {
          "output_type": "stream",
          "name": "stdout",
          "text": [
            "[8, 125, 216, 512, 729]\n"
          ]
        }
      ]
    },
    {
      "cell_type": "code",
      "source": [
        "f = map(lambda c:c*9/5 + 32, data)\n",
        "print(list(f))"
      ],
      "metadata": {
        "colab": {
          "base_uri": "https://localhost:8080/"
        },
        "id": "2lqxGKrqLTrc",
        "outputId": "ca775b93-79b6-44c5-c7b6-bfd2ccd0a044"
      },
      "execution_count": null,
      "outputs": [
        {
          "output_type": "stream",
          "name": "stdout",
          "text": [
            "[35.6, 41.0, 42.8, 46.4, 48.2]\n"
          ]
        }
      ]
    },
    {
      "cell_type": "code",
      "source": [
        "pares = filter(lambda x: (x % 2 == 0), data)\n",
        "print(list(pares))\n"
      ],
      "metadata": {
        "colab": {
          "base_uri": "https://localhost:8080/"
        },
        "id": "sJTuMHtNMAlQ",
        "outputId": "d5b6280c-705e-483e-ba69-2f3bd06cb00a"
      },
      "execution_count": null,
      "outputs": [
        {
          "output_type": "stream",
          "name": "stdout",
          "text": [
            "[2, 6, 8]\n"
          ]
        }
      ]
    },
    {
      "cell_type": "code",
      "source": [
        "impares = filter(lambda x: (x % 2 != 0), data)\n",
        "print(list(impares))"
      ],
      "metadata": {
        "id": "EIKz06ulO8bG",
        "colab": {
          "base_uri": "https://localhost:8080/"
        },
        "outputId": "0e0e090d-75aa-4c23-f987-116aa0898bd8"
      },
      "execution_count": null,
      "outputs": [
        {
          "output_type": "stream",
          "name": "stdout",
          "text": [
            "[5, 9]\n"
          ]
        }
      ]
    },
    {
      "cell_type": "markdown",
      "source": [
        "CICLOS\n",
        "\n",
        "\n",
        "\n",
        "*   FOR\n",
        "\n"
      ],
      "metadata": {
        "id": "4_L4VXrkPlza"
      }
    },
    {
      "cell_type": "code",
      "source": [
        "for item in data:\n",
        "  print(item)"
      ],
      "metadata": {
        "colab": {
          "base_uri": "https://localhost:8080/"
        },
        "id": "xPxEbBBQPwVI",
        "outputId": "dc52146b-7439-4bb5-bedf-2075775b3483"
      },
      "execution_count": null,
      "outputs": [
        {
          "output_type": "stream",
          "name": "stdout",
          "text": [
            "2\n",
            "5\n",
            "6\n",
            "8\n",
            "9\n"
          ]
        }
      ]
    },
    {
      "cell_type": "markdown",
      "source": [
        "\n",
        "\n",
        "*   WHILE\n",
        "\n"
      ],
      "metadata": {
        "id": "iqC8PEXIQQxS"
      }
    },
    {
      "cell_type": "code",
      "source": [
        "i= 0\n",
        "n= len(data)\n",
        "while i<n:\n",
        "  print(data[i])\n",
        "  i+=1"
      ],
      "metadata": {
        "colab": {
          "base_uri": "https://localhost:8080/"
        },
        "id": "XhB2ZT6uQYTD",
        "outputId": "89c595bf-eee9-474c-f629-458a0621e1dd"
      },
      "execution_count": null,
      "outputs": [
        {
          "output_type": "stream",
          "name": "stdout",
          "text": [
            "2\n",
            "5\n",
            "6\n",
            "8\n",
            "9\n"
          ]
        }
      ]
    },
    {
      "cell_type": "markdown",
      "source": [
        "TABLA DE MULTIPLICAR"
      ],
      "metadata": {
        "id": "h7SvDfCmRGfr"
      }
    },
    {
      "cell_type": "code",
      "source": [
        "n = int(input(\"N Tabla: \"))\n",
        "\n",
        "for i in range(1,11):\n",
        "  print( n, \"x\", i, \"=\", n*i )"
      ],
      "metadata": {
        "id": "Ye8E5UVKRQMe",
        "colab": {
          "base_uri": "https://localhost:8080/"
        },
        "outputId": "42a38a7f-b170-42eb-ff14-26a8b4f0d2e4"
      },
      "execution_count": null,
      "outputs": [
        {
          "output_type": "stream",
          "name": "stdout",
          "text": [
            "N Tabla: 1\n",
            "1 x 1 = 1\n",
            "1 x 2 = 2\n",
            "1 x 3 = 3\n",
            "1 x 4 = 4\n",
            "1 x 5 = 5\n",
            "1 x 6 = 6\n",
            "1 x 7 = 7\n",
            "1 x 8 = 8\n",
            "1 x 9 = 9\n",
            "1 x 10 = 10\n"
          ]
        }
      ]
    },
    {
      "cell_type": "code",
      "source": [
        "edad = int(input(\"Edad: \"))\n",
        "\n",
        "if edad<=2:\n",
        "  print(\"soy un bebe\")\n",
        "elif edad<=11:\n",
        "  print(\"Soy un niño\")\n",
        "elif edad<18:\n",
        "  print(\"Soy un adolescente\")\n",
        "elif edad<=65:\n",
        "  print(\"soy mayor de edad\")\n",
        "elif edad<=85:\n",
        "  print(\"Soy un adulto mayor\")\n",
        "else:\n",
        "  print(\"Larga vida\")"
      ],
      "metadata": {
        "id": "cR_sp3_oTo_I"
      },
      "execution_count": null,
      "outputs": []
    },
    {
      "cell_type": "code",
      "source": [
        "lista = [5,8,9,15,7,9,2,3, 2, 1]"
      ],
      "metadata": {
        "id": "guSTvaR1Tsk3"
      },
      "execution_count": null,
      "outputs": []
    },
    {
      "cell_type": "code",
      "source": [
        "mayor = 0\n",
        "for num in lista:\n",
        "  if num>mayor:\n",
        "    mayor = num\n",
        "print(\"EL numero mayor de la lista: \", lista, \"es: \", mayor)"
      ],
      "metadata": {
        "id": "CN1TRoHTTvbv"
      },
      "execution_count": null,
      "outputs": []
    },
    {
      "cell_type": "code",
      "source": [
        "mayor = 0\n",
        "i=0\n",
        "n=len(lista)\n",
        "while i<n:\n",
        "  if lista[i]>mayor:\n",
        "    mayor = lista[i]\n",
        "  i+=1\n",
        "print(mayor)"
      ],
      "metadata": {
        "id": "4hIAlmv9TywW"
      },
      "execution_count": null,
      "outputs": []
    },
    {
      "cell_type": "markdown",
      "source": [
        "Escribir un programa que pida la nota de examen (0-10), e imprima por pantalla la calificacion en formato: \"suspenso\" si la nota es menor a 5, \"Aproado\" si es entre 5 inclusive y 7 sin incluir,  \"Notable\" si esta entre 7 inclusive y 9 sin incluir, \"Sobresaliente\" si esta entre 9 inclusive y 10 sin incluir y \"Honorable\" si es 10"
      ],
      "metadata": {
        "id": "dPxo0svBLY1M"
      }
    },
    {
      "cell_type": "code",
      "source": [
        "nota = float (input(\"Ingrese la nota del examen (0-10): \"))\n",
        "if (nota<0 or nota>10):\n",
        "  print(\"Nota invalida\")\n",
        "elif(nota<5):\n",
        "    print(\"Suspenso\")\n",
        "elif(nota<7):\n",
        "  print(\"Aprobado\")\n",
        "elif(nota<9):\n",
        "  print(\"Notable\")\n",
        "elif(nota<10):\n",
        "  print(\"Sobresaliente\")\n",
        "else:\n",
        "  print(\"Honorable\")"
      ],
      "metadata": {
        "colab": {
          "base_uri": "https://localhost:8080/"
        },
        "id": "6xGzTNnlSjv8",
        "outputId": "78026c71-9491-4fb4-8375-0da34a37a8d4"
      },
      "execution_count": null,
      "outputs": [
        {
          "output_type": "stream",
          "name": "stdout",
          "text": [
            "Ingrese la nota del examen (0-10): 11\n",
            "Nota invalida\n"
          ]
        }
      ]
    },
    {
      "cell_type": "markdown",
      "source": [
        "**Escriba un programa que muestre la secuencia fibonacci**"
      ],
      "metadata": {
        "id": "D6iz8pJvUHEC"
      }
    },
    {
      "cell_type": "code",
      "source": [
        "limit = int (input(\"Limite: \"))\n",
        "a=0\n",
        "b=1\n",
        "c=0\n",
        "while c<limit:\n",
        "  c=a+b\n",
        "  print(a,\"+\",b,\"=\",c)\n",
        "  b=a\n",
        "  a=c"
      ],
      "metadata": {
        "colab": {
          "base_uri": "https://localhost:8080/"
        },
        "id": "CpQLrycidhnM",
        "outputId": "e9d47dbc-36a8-484e-b430-67357f8ef7d5"
      },
      "execution_count": null,
      "outputs": [
        {
          "output_type": "stream",
          "name": "stdout",
          "text": [
            "Limite: 100\n",
            "0 + 1 = 1\n",
            "1 + 0 = 1\n",
            "1 + 1 = 2\n",
            "2 + 1 = 3\n",
            "3 + 2 = 5\n",
            "5 + 3 = 8\n",
            "8 + 5 = 13\n",
            "13 + 8 = 21\n",
            "21 + 13 = 34\n",
            "34 + 21 = 55\n",
            "55 + 34 = 89\n",
            "89 + 55 = 144\n"
          ]
        }
      ]
    },
    {
      "cell_type": "markdown",
      "source": [
        "**PROGRAMACION ORIENTADA A OBJETOS.**\n",
        "\n",
        "* CLASE"
      ],
      "metadata": {
        "id": "7YexlD1aUXT6"
      }
    },
    {
      "cell_type": "code",
      "source": [
        "class Calculadora:\n",
        "  def sumar(sefl, num1, num2):\n",
        "    return num1 + num2"
      ],
      "metadata": {
        "id": "0nqETAqTUazY"
      },
      "execution_count": null,
      "outputs": []
    },
    {
      "cell_type": "markdown",
      "source": [
        "* INSTANCIA DE UNA CLASE"
      ],
      "metadata": {
        "id": "3gzW61LcUfLn"
      }
    },
    {
      "cell_type": "code",
      "source": [
        "objCalculadora = Calculadora()"
      ],
      "metadata": {
        "id": "LoWbN1ahUhGR"
      },
      "execution_count": null,
      "outputs": []
    },
    {
      "cell_type": "markdown",
      "source": [
        "* OBJETO"
      ],
      "metadata": {
        "id": "EVJJRnosUySK"
      }
    },
    {
      "cell_type": "code",
      "source": [
        "print( \"La suma de 5 + 3 = \", objCalculadora.sumar(5,3) )"
      ],
      "metadata": {
        "id": "ffGTb7m0U2B6"
      },
      "execution_count": null,
      "outputs": []
    },
    {
      "cell_type": "markdown",
      "source": [
        "## Calcular sobre el sueldo las deducciones por ley ISSS (3%), AFP(6.25%), ISR(Según tabla) e imprima el total deducciones y sueldo neto. (20%)"
      ],
      "metadata": {
        "id": "2wdtgNQKRwfM"
      }
    },
    {
      "cell_type": "code",
      "source": [
        "def calcular_isr(salario_res):\n",
        "    if 472.0 < salario_res <= 895.24:\n",
        "        salario_por = salario_res - 472.0\n",
        "        agre = salario_por * 0.10\n",
        "        isr = agre + 17.67\n",
        "    elif 895.24 < salario_res <= 2038.10:\n",
        "        salario_por = salario_res - 895.24\n",
        "        agre = salario_por * 0.20\n",
        "        isr = agre + 60.00\n",
        "    elif salario_res > 2038.10:\n",
        "        salario_por = salario_res - 2038.10\n",
        "        agre = salario_por * 0.30\n",
        "        isr = agre + 288.57\n",
        "    else:\n",
        "        isr = 0.00\n",
        "    return isr\n",
        "\n",
        "salario = float(input(\"Ingrese su salario: \"))\n",
        "salario_iss = salario * 0.03\n",
        "salario_afp = salario * 0.0625\n",
        "salario_res = salario - salario_iss - salario_afp\n",
        "\n",
        "if salario <= 472.0:\n",
        "    salario_res = salario - salario_iss - salario_afp\n",
        "    print(\"Su salario es:\", salario_res, \"usted no paga renta\")\n",
        "else:\n",
        "    isr = calcular_isr(salario_res)\n",
        "    total_deducciones = salario_iss + salario_afp + isr\n",
        "    sueldo_neto = salario - total_deducciones\n",
        "\n",
        "    print(\"Deducción ISSS: $\", salario_iss)\n",
        "    print(\"Deducción AFP: $\", salario_afp)\n",
        "    print(\"Deducción ISR: $\", isr)\n",
        "    print(\"Total deducciones: $\", total_deducciones)\n",
        "    print(\"Sueldo neto: $\",sueldo_neto)"
      ],
      "metadata": {
        "id": "FqX960ZKR3tZ"
      },
      "execution_count": null,
      "outputs": []
    },
    {
      "cell_type": "markdown",
      "source": [
        "## Calcular el valor a pagar según el número de metros consumidos de agua potable"
      ],
      "metadata": {
        "id": "ZS9i601gR7nE"
      }
    },
    {
      "cell_type": "code",
      "source": [
        "cobro = float(input(\"Ingrese los mts consumidos: \"))\n",
        "\n",
        "if cobro <= 18:\n",
        "    print(\"Usted pagará: $6\")\n",
        "elif 18 < cobro <= 28:\n",
        "    agregado = cobro - 18\n",
        "    suma = agregado * 0.45\n",
        "    totalpaga = 6 + suma\n",
        "    print(\"El total a pagar es: $\", totalpaga)\n",
        "elif cobro > 28:\n",
        "    exceso = cobro - 28\n",
        "    cargo_exceso = exceso * 0.65\n",
        "    cargo_reducido = 10 * 0.45\n",
        "    total_a_pagar = 6 + cargo_exceso + cargo_reducido\n",
        "    print(\"Total a pagar: $\", total_a_pagar)"
      ],
      "metadata": {
        "id": "aWHBU-Z5R_Nv"
      },
      "execution_count": null,
      "outputs": []
    },
    {
      "cell_type": "markdown",
      "source": [
        "## Desarrolle la tabla de meses acumulados a n meses. Si puede encontrar la formula matemática para evitar ciclos.\n"
      ],
      "metadata": {
        "id": "ogJOKQ6KSCyS"
      }
    },
    {
      "cell_type": "code",
      "source": [
        "mes = int(input(\"Escriba cuantos meses va a pagar: \"))\n",
        "def sum(mes):\n",
        "  n = mes\n",
        "  formula = n * (n + 1) / 2\n",
        "  total = formula\n",
        "  print(\"Mes:\", n, \"\\nAcumulado:\", total)\n",
        "\n",
        "sum(mes)"
      ],
      "metadata": {
        "id": "0WUdRNoESGBW"
      },
      "execution_count": null,
      "outputs": []
    },
    {
      "cell_type": "markdown",
      "source": [
        "## Realizar un conversor propio, donde espesifique el valor de conversión:\n",
        "\n",
        "• 1 caja -> 25 unidad. Viceversa 80 unidades – 3/5 -> cajas/unidades"
      ],
      "metadata": {
        "id": "SAWzjfq0SJ1u"
      }
    },
    {
      "cell_type": "code",
      "source": [
        "print(\"Conversor de Cajas y Unidades\")\n",
        "print(\"1. Cajas a Unidades\")\n",
        "print(\"2. Unidades a Cajas\")\n",
        "print(\"\")\n",
        "\n",
        "opcion = int(input(\"Seleccione una opción: \"))\n",
        "print(\"\")\n",
        "\n",
        "if opcion == 1:\n",
        "    cajas = float(input(\"Ingresa la cantidad de cajas: \"))\n",
        "    print(f\"{cajas:.2f} cajas equivalen a {cajas * 25:.2f} unidades.\")\n",
        "elif opcion == 2:\n",
        "    unidades = float(input(\"Ingresa la cantidad de unidades: \"))\n",
        "    cajas, unidades_sobrantes = divmod(unidades, 25)\n",
        "    print(f\"{unidades:.2f} unidades equivalen a {int(cajas)} cajas y {unidades_sobrantes:.2f} unidades.\")\n",
        "else:\n",
        "    print(\"Opción no válida.\")"
      ],
      "metadata": {
        "id": "t8Fyte1OSSdc"
      },
      "execution_count": null,
      "outputs": []
    },
    {
      "cell_type": "markdown",
      "source": [
        "• 1 saco -> 50 libras. Viceversa 130 libras – 2/30 -> sacos/libras"
      ],
      "metadata": {
        "id": "S6sgKmX1SXq0"
      }
    },
    {
      "cell_type": "code",
      "source": [
        "print(\"Conversor de Sacos a libras \")\n",
        "print(\"1. Sacos a libras\")\n",
        "print(\"2. Libras a sacos \")\n",
        "print(\"\")\n",
        "\n",
        "opcion = int(input(\"Seleccione una opción: \"))\n",
        "print(\"\")\n",
        "\n",
        "if opcion == 1:\n",
        "    sacos = float(input(\"Ingresa la cantidad de sacos: \"))\n",
        "    print(f\"{sacos:.2f} sacos equivalen a {sacos * 50:.2f} libras.\")\n",
        "elif opcion == 2:\n",
        "    libras = float(input(\"Ingresa la cantidad de unidades: \"))\n",
        "    sacos, libras_sobrantes = divmod(libras, 50)\n",
        "    print(f\"{libras:.2f} libras equivalen a {int(sacos)} sacos y {libras_sobrantes:.2f} libras.\")\n",
        "else:\n",
        "    print(\"Opción no válida.\")"
      ],
      "metadata": {
        "id": "rBr5USUUSY3z"
      },
      "execution_count": null,
      "outputs": []
    },
    {
      "cell_type": "markdown",
      "source": [
        "1 fardo -> 5 unidades. Viceversa 28 unidades – 5/3 -> fardos/unidades"
      ],
      "metadata": {
        "id": "4f0G9JGjSjUP"
      }
    },
    {
      "cell_type": "code",
      "source": [
        "print(\"Conversor de Cajas y Unidades\")\n",
        "print(\"1.Fardo  a Unidades\")\n",
        "print(\"2. Unidades a Fardo \")\n",
        "print(\"\")\n",
        "\n",
        "opcion = int(input(\"Seleccione una opción: \"))\n",
        "print(\"\")\n",
        "\n",
        "if opcion == 1:\n",
        "    fardo  = float(input(\"Ingresa la cantidad de  fardo : \"))\n",
        "    print(f\"{ fardo :.2f}  fardo  equivalen a { fardo  * 5:.2f} unidades.\")\n",
        "elif opcion == 2:\n",
        "    unidades = float(input(\"Ingresa la cantidad de unidades: \"))\n",
        "    fardo , unidades_sobrantes = divmod(unidades, 5)\n",
        "    print(f\"{unidades:.2f} unidades equivalen a {int( fardo )}  fardo y {unidades_sobrantes:.2f} unidades.\")\n",
        "else:\n",
        "    print(\"Opción no válida.\")"
      ],
      "metadata": {
        "id": "aXO-CbFPSiOQ"
      },
      "execution_count": null,
      "outputs": []
    },
    {
      "cell_type": "markdown",
      "source": [
        "## Conversores: (40%) (10 ítems como mínimo por cada uno)\n",
        "\n",
        "• Monedas\n",
        "\n",
        "• Longitud\n",
        "\n",
        "• Masa\n",
        "\n",
        "• Almacenamiento\n",
        "\n",
        "• Tiempo\n",
        "\n",
        "• Volumen\n",
        "\n",
        "• Área"
      ],
      "metadata": {
        "id": "2aDKxdrxSsz0"
      }
    },
    {
      "cell_type": "code",
      "source": [
        "def convertir(conversor, de, a, cantidad):\n",
        "  return valores[conversor][a]/ valores [conversor][de] * cantidad"
      ],
      "metadata": {
        "id": "8mEp-fotSxO8"
      },
      "execution_count": null,
      "outputs": []
    },
    {
      "cell_type": "code",
      "source": [
        "etiquetas= [\n",
        "\n",
        "[],\n",
        "[\"Seleccione una opcion\", \"1. Dolares\", \"2. Quetzales\", \"3. Lempiras\", \"4. Córdobas\",\"5. Pesos CR\", \"6. Euros\", \"7. Colon SV\", \"8. Yenes\", \"9. Soles, 10. Bolivar\"], #Divisas\n",
        "\n",
        "[\"Seleccione una opcion\", \"1. Metro\", \"2. Milimetro\", \"3. Centimetro\", \"4. Pie\", \"5. Vara\", \"6. Yardas\", \"7. Km\",\"8. Millas\", \"9. Hectómetro\", \"10. Decámetro\"], #Longitud\n",
        "\n",
        "[\"Seleccione una opcion\", \"1. Kilogramo\", \"2. Hectogramo\", \"3. Decagramo\", \"4. Gramo\", \"5. Decigramo\", \"6. Centigramo\", \"7. Miligramo\", \"8. libra\", \"9. Stone\", \"10. Onza\" ], #Masa\n",
        "\n",
        "[\"Seleccione una opcion\", \"1. Byte\", \"2. Kilobyte\", \"3. Megabyte\", \"4. Mebibyte\", \"5. Gigabyte\", \"6. Gibibyte\", \"7. Terabyte\", \"8. Tebibyte\", \"9. Petabyte\", \"10. Pebibyte\"], #Almacenamiento\n",
        "\n",
        "[\"Seleccione una opcion\", \"1. Hora\", \"2. Minutos\", \"3. Segundos\", \"4. Decisegundos\", \"5. Centisegundos\", \"6. Milisegundos\", \"7. Microsegundos\", \"8. Nanosegundos\", \"9. Picosegundos\", \"1. Femtosegundos\"], #Tiempo\n",
        "\n",
        "[\"Selecciona una unidad de medida:\", \"1. Metro cubico\", \"2. Litro\", \"3. Mililitro\", \"4. Galon imperial\", \"5. Cuarto imperial\", \"6. Pinta imperial\", \"7. Taza imperial\", \"8. Onza liquida imperial\", \"9. Cucharada imperial\", \"10. Cucharadita imperial\"], #Volumen\n",
        "\n",
        "[\"Selecciona una unidad de medida:\", \"1. Kilometro cuadrado\", \"2. Metro cuadrado\",\"3. Milla cuadrada\", \"4. Yarda cuadrada\", \"5. Pie cuadrado\", \"6. Pulgada cuadrada\", \"7. Hectarea\", \"8. Acre\", \"9. Tareas\", \"10. Centímetro cuadrado\"] #Area\n",
        "]\n",
        "\n",
        "valores= [\n",
        "    [],\n",
        "[0, 1, 7.86, 24.57, 36.17, 536,73, 0.92, 8.76, 145,87, 3.71, 6.85], #Divisas\n",
        "[0,1,1000,100,3.2808398950131, 1.1963081929167, 1.0936132983377, 0.001, 0.00062137119223733, 0.01, 0.1], #Longitud\n",
        "[0,1,10,100,1000,10000,100000,1000000,2.2046223302272, 0.15747304441777, 35.274], #Masa\n",
        "[0, 1, 0.001, 0.000001, 9.5367431640625E-7, 1.0E-9, 9.3132257461548E-10, 1.0E-12, 9.0949470177293E-13, 1.0000E-15, 8.8817841970013E-16], #Almacenamiento\n",
        "[0,1,60,3600,36000,360000,3600000,3600000000,3600000000000,3600000000000000, 3599999999999999500], #Tiempo\n",
        "[0, 1, 1000, 1000000, 219.96924829909, 879.87699319635 , 1759.7539863927, 3519.5077544697, 35195.079727854, 56312.127564567, 168936.3826937], #Volumen\n",
        "[0, 1, 1.0E-6, 3.8610215854245E-7, 1.1959900463011, 10.76391041671, 1550.0031000062, 0.00159033, 0.00024710538146717, 0.00159033 , 10000] #Area\n",
        "]"
      ],
      "metadata": {
        "id": "FKAVBHcIS0rD"
      },
      "execution_count": null,
      "outputs": []
    },
    {
      "cell_type": "code",
      "source": [
        "print (\"***** MENÚ ****\")\n",
        "print (\"1- Divisas\")\n",
        "print (\"2- longitud\")\n",
        "print (\"3- Masas\")\n",
        "print (\"4- Almacenamiento\")\n",
        "print (\"5- Medidas de tiempo\")\n",
        "print (\"6- Volumen \")\n",
        "print (\"7- Area\")\n",
        "print (\" \")\n",
        "opcion= int (input (\"conversor: \"))\n",
        "print (\"Conversor elegido: \", etiquetas[opcion])\n",
        "de= int(input(\"DE: \"))\n",
        "a = int(input(\"A: \"))\n",
        "cantidad = int (input(\"Cantidad: \"))\n",
        "print(\"Conversor de \", etiquetas[opcion][de], \"a\" , etiquetas[opcion][a], \"equivale a \", convertir(opcion, de, a, cantidad))"
      ],
      "metadata": {
        "id": "93c6SlTAS4Ia",
        "colab": {
          "base_uri": "https://localhost:8080/"
        },
        "outputId": "fd1f2584-40a6-46b0-b3ed-d0b99544ef66"
      },
      "execution_count": null,
      "outputs": [
        {
          "output_type": "stream",
          "name": "stdout",
          "text": [
            "***** MENÚ ****\n",
            "1- Divisas\n",
            "2- longitud\n",
            "3- Masas\n",
            "4- Almacenamiento\n",
            "5- Medidas de tiempo\n",
            "6- Volumen \n",
            "7- Area\n",
            " \n",
            "conversor: 5\n",
            "Conversor elegido:  ['Seleccione una opcion', '1. Hora', '2. Minutos', '3. Segundos', '4. Decisegundos', '5. Centisegundos', '6. Milisegundos', '7. Microsegundos', '8. Nanosegundos', '9. Picosegundos', '1. Femtosegundos']\n",
            "DE: 1\n",
            "A: 2\n",
            "Cantidad: 1\n",
            "Conversor de  1. Hora a 2. Minutos equivale a  60.0\n"
          ]
        }
      ]
    },
    {
      "cell_type": "markdown",
      "source": [
        "### **PARCIAL COMPUTO 1**"
      ],
      "metadata": {
        "id": "2z2VcHEtURPZ"
      }
    },
    {
      "cell_type": "markdown",
      "source": [
        "Desarrolle el conversor de Área (Superficie) haciendo uso de los\n",
        "diccionarios y las funciones de usuario en Python que contenga las\n",
        "siguientes opciones:\n",
        "a. Pie Cuadrado\n",
        "b. Vara Cuadrada\n",
        "c. Yarda Cuadrada\n",
        "d. Metro Cuadrado\n",
        "e. Tareas\n",
        "f. Manzana\n",
        "g. Hectárea\n",
        "\n"
      ],
      "metadata": {
        "id": "ILt2BKLRfcZB"
      }
    },
    {
      "cell_type": "code",
      "source": [
        "def convertir(conversor, de, a, cantidad):\n",
        "  return valores[conversor][a]/ valores [conversor][de] * cantidad"
      ],
      "metadata": {
        "id": "2mJz0FUlUcCK"
      },
      "execution_count": null,
      "outputs": []
    },
    {
      "cell_type": "code",
      "source": [
        "etiquetas= [\n",
        "[\"Selecciona una unidad de medida:\", \"1. Pie Cuadrado\", \"2. Vara Cuadrada\",\"3. Yarda Cuadrada\", \"4. Metro Cuadrado\", \"5. Tareas\", \"6. Manzana\", \"7. Hectárea\"] #Area\n",
        "]\n",
        "\n",
        "valores= [\n",
        "[0, 1, 0.132966, 0,11111111, 0.09290304, 0.00014774656489, 700, 6.988,96, 1,000] #Area\n",
        "]"
      ],
      "metadata": {
        "id": "w33G1jLrUhAj"
      },
      "execution_count": null,
      "outputs": []
    },
    {
      "cell_type": "code",
      "source": [
        "print (\"Area (Superficie)\")\n",
        "print (\" \")\n",
        "opcion = 0\n",
        "print (\"Opciones: \", etiquetas[opcion])\n",
        "de= int(input(\"DE: \"))\n",
        "a = int(input(\"A: \"))\n",
        "cantidad = int (input(\"Cantidad: \"))\n",
        "print(\"Conversor de \", etiquetas[opcion][de], \"a\" , etiquetas[opcion][a], \"equivale a \", convertir(opcion, de, a, cantidad))"
      ],
      "metadata": {
        "colab": {
          "base_uri": "https://localhost:8080/"
        },
        "id": "4Blry8xCVPSD",
        "outputId": "86da2372-a36c-4b58-8923-e819bf3c8464"
      },
      "execution_count": null,
      "outputs": [
        {
          "output_type": "stream",
          "name": "stdout",
          "text": [
            "Area (Superficie)\n",
            " \n",
            "Opciones:  ['Selecciona una unidad de medida:', '1. Pie Cuadrado', '2. Vara Cuadrada', '3. Yarda Cuadrada', '4. Metro Cuadrado', '5. Tareas', '6. Manzana', '7. Hectárea']\n",
            "DE: 6\n",
            "A: 5\n",
            "Cantidad: 1\n",
            "Conversor de  6. Manzana a 5. Tareas equivale a  628.7999999808321\n"
          ]
        }
      ]
    }
  ]
}